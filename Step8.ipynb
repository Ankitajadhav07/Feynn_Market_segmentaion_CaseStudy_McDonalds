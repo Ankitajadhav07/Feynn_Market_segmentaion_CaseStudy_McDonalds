{
 "cells": [
  {
   "cell_type": "code",
   "execution_count": 1,
   "id": "9abef86b-856b-4b44-8dda-7e3d27b8967c",
   "metadata": {},
   "outputs": [
    {
     "name": "stdout",
     "output_type": "stream",
     "text": [
      "[[0.9 1.1 1.3]\n",
      " [1.  1.2 1.4]\n",
      " [1.1 1.3 1.5]]\n"
     ]
    }
   ],
   "source": [
    "import numpy as np\n",
    "\n",
    "def decision_matrix(x, y, wx, wy, size):\n",
    "    # Assuming x, y, wx, wy are lists or numpy arrays\n",
    "    # Assuming size is a scalar or tuple indicating the size of the decision matrix\n",
    "\n",
    "    # Example of combining the inputs in a way to form a decision matrix\n",
    "    # This is a placeholder; the actual implementation depends on the specifics of decisionMatrix in R\n",
    "    matrix = np.zeros((size, size))\n",
    "    for i in range(size):\n",
    "        for j in range(size):\n",
    "            matrix[i, j] = x[i] * wx + y[j] * wy\n",
    "    \n",
    "    return matrix\n",
    "\n",
    "# Example usage\n",
    "x = [1, 2, 3]\n",
    "y = [4, 5, 6]\n",
    "wx = 0.1\n",
    "wy = 0.2\n",
    "size = 3\n",
    "\n",
    "matrix = decision_matrix(x, y, wx, wy, size)\n",
    "print(matrix)\n"
   ]
  },
  {
   "cell_type": "code",
   "execution_count": null,
   "id": "6959daa3-754c-4ca8-abd4-c5f143c4014b",
   "metadata": {},
   "outputs": [],
   "source": []
  }
 ],
 "metadata": {
  "kernelspec": {
   "display_name": "Python 3 (ipykernel)",
   "language": "python",
   "name": "python3"
  },
  "language_info": {
   "codemirror_mode": {
    "name": "ipython",
    "version": 3
   },
   "file_extension": ".py",
   "mimetype": "text/x-python",
   "name": "python",
   "nbconvert_exporter": "python",
   "pygments_lexer": "ipython3",
   "version": "3.11.7"
  }
 },
 "nbformat": 4,
 "nbformat_minor": 5
}
